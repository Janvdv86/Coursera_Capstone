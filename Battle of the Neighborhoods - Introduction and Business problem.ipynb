{
 "cells": [
  {
   "cell_type": "markdown",
   "metadata": {},
   "source": [
    "# The Battle of the Neighborhoods"
   ]
  },
  {
   "cell_type": "markdown",
   "metadata": {},
   "source": [
    "## Introduction and Business Problem"
   ]
  },
  {
   "cell_type": "markdown",
   "metadata": {},
   "source": [
    "### Introduction"
   ]
  },
  {
   "cell_type": "markdown",
   "metadata": {},
   "source": [
    "Barcelona is due to its geographic location and culture one of Europe's best cities to live in. It has cuisines from all over the world but in this project we will search for the best place in Barcelona to open a Peruvian restaurant. While Peru is best known for ceviche, the marinated raw seafood dish, Peru's food is remarkable for the diversity of its ingredients, from wonderful fresh fish to astounding varieties of potatoes, corn and chilies. But it's still a undiscovered cuisine, and a multicultural city like Barcelona is the perfect place to show people from all over the world how amazing Peruvian food is."
   ]
  },
  {
   "cell_type": "markdown",
   "metadata": {},
   "source": [
    "### Business Problem"
   ]
  },
  {
   "cell_type": "markdown",
   "metadata": {},
   "source": [
    "This report focusses on the issue of where to open a new Peruvian restaurant in Barcelona. There are many factors which can contribute in finding the perfect location but we will mainly focus on location and the proximity of other Peruvian restaurants."
   ]
  },
  {
   "cell_type": "code",
   "execution_count": null,
   "metadata": {},
   "outputs": [],
   "source": []
  }
 ],
 "metadata": {
  "kernelspec": {
   "display_name": "Python 3",
   "language": "python",
   "name": "python3"
  },
  "language_info": {
   "codemirror_mode": {
    "name": "ipython",
    "version": 3
   },
   "file_extension": ".py",
   "mimetype": "text/x-python",
   "name": "python",
   "nbconvert_exporter": "python",
   "pygments_lexer": "ipython3",
   "version": "3.8.0"
  }
 },
 "nbformat": 4,
 "nbformat_minor": 4
}
