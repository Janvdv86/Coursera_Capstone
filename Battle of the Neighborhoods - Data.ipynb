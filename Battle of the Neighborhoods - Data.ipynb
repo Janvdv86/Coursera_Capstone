{
 "cells": [
  {
   "cell_type": "markdown",
   "metadata": {},
   "source": [
    "## Data Acquisition and Cleaning"
   ]
  },
  {
   "cell_type": "markdown",
   "metadata": {},
   "source": [
    "### Data Acquisition"
   ]
  },
  {
   "cell_type": "markdown",
   "metadata": {},
   "source": [
    "This project works with two sets of data. The first dataset consists of Barcelona's different neighborhoods which we will get from a wikipedia page. The second will be the geometric coordinates of each district in Barcelona which I found online. After we have obtained them we will merge them together so we will have a clear overview of the latitudes and longitudes of each district in Barcelona."
   ]
  },
  {
   "cell_type": "markdown",
   "metadata": {},
   "source": [
    "### Data cleaning"
   ]
  },
  {
   "cell_type": "markdown",
   "metadata": {},
   "source": [
    "We will prepare the dataframe so that we just have the 3 most important columns: District, Size km² and Population. We than make a seperate dataframe for the latitudes and longitudes and at last we merge both dataframes together so we will end up with a dataframe like this."
   ]
  },
  {
   "cell_type": "code",
   "execution_count": 8,
   "metadata": {},
   "outputs": [
    {
     "data": {
      "text/html": [
       "<div>\n",
       "<style scoped>\n",
       "    .dataframe tbody tr th:only-of-type {\n",
       "        vertical-align: middle;\n",
       "    }\n",
       "\n",
       "    .dataframe tbody tr th {\n",
       "        vertical-align: top;\n",
       "    }\n",
       "\n",
       "    .dataframe thead th {\n",
       "        text-align: right;\n",
       "    }\n",
       "</style>\n",
       "<table border=\"1\" class=\"dataframe\">\n",
       "  <thead>\n",
       "    <tr style=\"text-align: right;\">\n",
       "      <th></th>\n",
       "      <th>District</th>\n",
       "      <th>Size km²</th>\n",
       "      <th>Population</th>\n",
       "      <th>Latitude</th>\n",
       "      <th>Longitude</th>\n",
       "    </tr>\n",
       "  </thead>\n",
       "  <tbody>\n",
       "    <tr>\n",
       "      <th>0</th>\n",
       "      <td>Ciutat Vella</td>\n",
       "      <td>4.49</td>\n",
       "      <td>111,290</td>\n",
       "      <td>41.380218</td>\n",
       "      <td>2.17319</td>\n",
       "    </tr>\n",
       "    <tr>\n",
       "      <th>1</th>\n",
       "      <td>Eixample</td>\n",
       "      <td>7.46</td>\n",
       "      <td>262,485</td>\n",
       "      <td>41.388960</td>\n",
       "      <td>2.16179</td>\n",
       "    </tr>\n",
       "    <tr>\n",
       "      <th>2</th>\n",
       "      <td>Sants-Montjuïc</td>\n",
       "      <td>21.35</td>\n",
       "      <td>177,636</td>\n",
       "      <td>41.372631</td>\n",
       "      <td>2.15460</td>\n",
       "    </tr>\n",
       "    <tr>\n",
       "      <th>3</th>\n",
       "      <td>Les Corts</td>\n",
       "      <td>6.08</td>\n",
       "      <td>82,588</td>\n",
       "      <td>41.383500</td>\n",
       "      <td>2.11680</td>\n",
       "    </tr>\n",
       "    <tr>\n",
       "      <th>4</th>\n",
       "      <td>Sarrià-Sant Gervasi</td>\n",
       "      <td>20.09</td>\n",
       "      <td>140,461</td>\n",
       "      <td>41.401039</td>\n",
       "      <td>2.13940</td>\n",
       "    </tr>\n",
       "    <tr>\n",
       "      <th>5</th>\n",
       "      <td>Gràcia</td>\n",
       "      <td>4.19</td>\n",
       "      <td>120,087</td>\n",
       "      <td>41.402371</td>\n",
       "      <td>2.13940</td>\n",
       "    </tr>\n",
       "    <tr>\n",
       "      <th>6</th>\n",
       "      <td>Horta-Guinardó</td>\n",
       "      <td>11.96</td>\n",
       "      <td>169,920</td>\n",
       "      <td>41.418491</td>\n",
       "      <td>2.16770</td>\n",
       "    </tr>\n",
       "    <tr>\n",
       "      <th>7</th>\n",
       "      <td>Nou Barris</td>\n",
       "      <td>8.04</td>\n",
       "      <td>164,981</td>\n",
       "      <td>41.441631</td>\n",
       "      <td>2.17727</td>\n",
       "    </tr>\n",
       "    <tr>\n",
       "      <th>8</th>\n",
       "      <td>Sant Andreu</td>\n",
       "      <td>6.56</td>\n",
       "      <td>142,598</td>\n",
       "      <td>41.435409</td>\n",
       "      <td>2.18982</td>\n",
       "    </tr>\n",
       "    <tr>\n",
       "      <th>9</th>\n",
       "      <td>Sant Martí</td>\n",
       "      <td>10.80</td>\n",
       "      <td>221,029</td>\n",
       "      <td>41.418140</td>\n",
       "      <td>2.19933</td>\n",
       "    </tr>\n",
       "  </tbody>\n",
       "</table>\n",
       "</div>"
      ],
      "text/plain": [
       "              District Size km² Population   Latitude  Longitude\n",
       "0         Ciutat Vella     4.49    111,290  41.380218    2.17319\n",
       "1             Eixample     7.46    262,485  41.388960    2.16179\n",
       "2       Sants-Montjuïc    21.35    177,636  41.372631    2.15460\n",
       "3            Les Corts     6.08     82,588  41.383500    2.11680\n",
       "4  Sarrià-Sant Gervasi    20.09    140,461  41.401039    2.13940\n",
       "5               Gràcia     4.19    120,087  41.402371    2.13940\n",
       "6       Horta-Guinardó    11.96    169,920  41.418491    2.16770\n",
       "7           Nou Barris     8.04    164,981  41.441631    2.17727\n",
       "8          Sant Andreu     6.56    142,598  41.435409    2.18982\n",
       "9           Sant Martí    10.80    221,029  41.418140    2.19933"
      ]
     },
     "execution_count": 8,
     "metadata": {},
     "output_type": "execute_result"
    }
   ],
   "source": [
    "BarcelonaDataFrame"
   ]
  },
  {
   "cell_type": "code",
   "execution_count": null,
   "metadata": {},
   "outputs": [],
   "source": []
  }
 ],
 "metadata": {
  "kernelspec": {
   "display_name": "Python 3",
   "language": "python",
   "name": "python3"
  },
  "language_info": {
   "codemirror_mode": {
    "name": "ipython",
    "version": 3
   },
   "file_extension": ".py",
   "mimetype": "text/x-python",
   "name": "python",
   "nbconvert_exporter": "python",
   "pygments_lexer": "ipython3",
   "version": "3.8.0"
  }
 },
 "nbformat": 4,
 "nbformat_minor": 4
}
